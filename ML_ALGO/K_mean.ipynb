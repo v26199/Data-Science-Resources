{
 "cells": [
  {
   "cell_type": "markdown",
   "id": "727afcc2",
   "metadata": {},
   "source": [
    "Exercise for k means tutorial\n",
    "\n",
    "Use iris flower dataset from sklearn library and try to form clusters of flowers using petal width and length features. \n",
    "\n",
    "Drop other two features for simplicity.\n",
    "\n",
    "Figure out if any preprocessing such as scaling would help here\n",
    "\n",
    "Draw elbow plot and from that figure out optimal value of k"
   ]
  },
  {
   "cell_type": "code",
   "execution_count": 1,
   "id": "10eece60",
   "metadata": {},
   "outputs": [],
   "source": [
    "from sklearn.cluster import KMeans\n",
    "import pandas as pd\n",
    "from sklearn.preprocessing import MinMaxScaler\n",
    "from matplotlib import pyplot as plt\n",
    "from sklearn.datasets import load_iris\n",
    "%matplotlib inline"
   ]
  },
  {
   "cell_type": "code",
   "execution_count": 2,
   "id": "6357483b",
   "metadata": {},
   "outputs": [],
   "source": [
    "iris = load_iris()"
   ]
  },
  {
   "cell_type": "code",
   "execution_count": 3,
   "id": "b5b22783",
   "metadata": {},
   "outputs": [
    {
     "data": {
      "text/html": [
       "<div>\n",
       "<style scoped>\n",
       "    .dataframe tbody tr th:only-of-type {\n",
       "        vertical-align: middle;\n",
       "    }\n",
       "\n",
       "    .dataframe tbody tr th {\n",
       "        vertical-align: top;\n",
       "    }\n",
       "\n",
       "    .dataframe thead th {\n",
       "        text-align: right;\n",
       "    }\n",
       "</style>\n",
       "<table border=\"1\" class=\"dataframe\">\n",
       "  <thead>\n",
       "    <tr style=\"text-align: right;\">\n",
       "      <th></th>\n",
       "      <th>sepal length (cm)</th>\n",
       "      <th>sepal width (cm)</th>\n",
       "      <th>petal length (cm)</th>\n",
       "      <th>petal width (cm)</th>\n",
       "    </tr>\n",
       "  </thead>\n",
       "  <tbody>\n",
       "    <tr>\n",
       "      <th>0</th>\n",
       "      <td>5.1</td>\n",
       "      <td>3.5</td>\n",
       "      <td>1.4</td>\n",
       "      <td>0.2</td>\n",
       "    </tr>\n",
       "    <tr>\n",
       "      <th>1</th>\n",
       "      <td>4.9</td>\n",
       "      <td>3.0</td>\n",
       "      <td>1.4</td>\n",
       "      <td>0.2</td>\n",
       "    </tr>\n",
       "    <tr>\n",
       "      <th>2</th>\n",
       "      <td>4.7</td>\n",
       "      <td>3.2</td>\n",
       "      <td>1.3</td>\n",
       "      <td>0.2</td>\n",
       "    </tr>\n",
       "    <tr>\n",
       "      <th>3</th>\n",
       "      <td>4.6</td>\n",
       "      <td>3.1</td>\n",
       "      <td>1.5</td>\n",
       "      <td>0.2</td>\n",
       "    </tr>\n",
       "    <tr>\n",
       "      <th>4</th>\n",
       "      <td>5.0</td>\n",
       "      <td>3.6</td>\n",
       "      <td>1.4</td>\n",
       "      <td>0.2</td>\n",
       "    </tr>\n",
       "  </tbody>\n",
       "</table>\n",
       "</div>"
      ],
      "text/plain": [
       "   sepal length (cm)  sepal width (cm)  petal length (cm)  petal width (cm)\n",
       "0                5.1               3.5                1.4               0.2\n",
       "1                4.9               3.0                1.4               0.2\n",
       "2                4.7               3.2                1.3               0.2\n",
       "3                4.6               3.1                1.5               0.2\n",
       "4                5.0               3.6                1.4               0.2"
      ]
     },
     "execution_count": 3,
     "metadata": {},
     "output_type": "execute_result"
    }
   ],
   "source": [
    "df = pd.DataFrame(iris.data,columns=iris.feature_names)\n",
    "df.head()"
   ]
  },
  {
   "cell_type": "code",
   "execution_count": 4,
   "id": "0e854a8b",
   "metadata": {},
   "outputs": [
    {
     "data": {
      "text/html": [
       "<div>\n",
       "<style scoped>\n",
       "    .dataframe tbody tr th:only-of-type {\n",
       "        vertical-align: middle;\n",
       "    }\n",
       "\n",
       "    .dataframe tbody tr th {\n",
       "        vertical-align: top;\n",
       "    }\n",
       "\n",
       "    .dataframe thead th {\n",
       "        text-align: right;\n",
       "    }\n",
       "</style>\n",
       "<table border=\"1\" class=\"dataframe\">\n",
       "  <thead>\n",
       "    <tr style=\"text-align: right;\">\n",
       "      <th></th>\n",
       "      <th>sepal length (cm)</th>\n",
       "      <th>sepal width (cm)</th>\n",
       "      <th>petal length (cm)</th>\n",
       "      <th>petal width (cm)</th>\n",
       "      <th>flower</th>\n",
       "    </tr>\n",
       "  </thead>\n",
       "  <tbody>\n",
       "    <tr>\n",
       "      <th>0</th>\n",
       "      <td>5.1</td>\n",
       "      <td>3.5</td>\n",
       "      <td>1.4</td>\n",
       "      <td>0.2</td>\n",
       "      <td>0</td>\n",
       "    </tr>\n",
       "    <tr>\n",
       "      <th>1</th>\n",
       "      <td>4.9</td>\n",
       "      <td>3.0</td>\n",
       "      <td>1.4</td>\n",
       "      <td>0.2</td>\n",
       "      <td>0</td>\n",
       "    </tr>\n",
       "    <tr>\n",
       "      <th>2</th>\n",
       "      <td>4.7</td>\n",
       "      <td>3.2</td>\n",
       "      <td>1.3</td>\n",
       "      <td>0.2</td>\n",
       "      <td>0</td>\n",
       "    </tr>\n",
       "    <tr>\n",
       "      <th>3</th>\n",
       "      <td>4.6</td>\n",
       "      <td>3.1</td>\n",
       "      <td>1.5</td>\n",
       "      <td>0.2</td>\n",
       "      <td>0</td>\n",
       "    </tr>\n",
       "    <tr>\n",
       "      <th>4</th>\n",
       "      <td>5.0</td>\n",
       "      <td>3.6</td>\n",
       "      <td>1.4</td>\n",
       "      <td>0.2</td>\n",
       "      <td>0</td>\n",
       "    </tr>\n",
       "  </tbody>\n",
       "</table>\n",
       "</div>"
      ],
      "text/plain": [
       "   sepal length (cm)  sepal width (cm)  petal length (cm)  petal width (cm)  \\\n",
       "0                5.1               3.5                1.4               0.2   \n",
       "1                4.9               3.0                1.4               0.2   \n",
       "2                4.7               3.2                1.3               0.2   \n",
       "3                4.6               3.1                1.5               0.2   \n",
       "4                5.0               3.6                1.4               0.2   \n",
       "\n",
       "   flower  \n",
       "0       0  \n",
       "1       0  \n",
       "2       0  \n",
       "3       0  \n",
       "4       0  "
      ]
     },
     "execution_count": 4,
     "metadata": {},
     "output_type": "execute_result"
    }
   ],
   "source": [
    "df['flower'] = iris.target\n",
    "df.head()"
   ]
  },
  {
   "cell_type": "code",
   "execution_count": 5,
   "id": "6ba49381",
   "metadata": {},
   "outputs": [],
   "source": [
    "# df.drop(['sepal length (cm)', 'sepal width (cm)', 'flower'],axis='columns',inplace=True)"
   ]
  },
  {
   "cell_type": "markdown",
   "id": "00caceb6",
   "metadata": {},
   "source": [
    "# Scalling the features"
   ]
  },
  {
   "cell_type": "code",
   "execution_count": 6,
   "id": "f63a69ef",
   "metadata": {},
   "outputs": [],
   "source": [
    "from sklearn.preprocessing import MinMaxScaler\n",
    "\n",
    "mn = MinMaxScaler()\n",
    "df = mn.fit_transform(df)\n"
   ]
  },
  {
   "cell_type": "code",
   "execution_count": 8,
   "id": "6d4a6f3e",
   "metadata": {},
   "outputs": [
    {
     "data": {
      "text/plain": [
       "array([[0.22222222, 0.625     , 0.06779661, 0.04166667, 0.        ],\n",
       "       [0.16666667, 0.41666667, 0.06779661, 0.04166667, 0.        ],\n",
       "       [0.11111111, 0.5       , 0.05084746, 0.04166667, 0.        ],\n",
       "       [0.08333333, 0.45833333, 0.08474576, 0.04166667, 0.        ],\n",
       "       [0.19444444, 0.66666667, 0.06779661, 0.04166667, 0.        ],\n",
       "       [0.30555556, 0.79166667, 0.11864407, 0.125     , 0.        ],\n",
       "       [0.08333333, 0.58333333, 0.06779661, 0.08333333, 0.        ],\n",
       "       [0.19444444, 0.58333333, 0.08474576, 0.04166667, 0.        ],\n",
       "       [0.02777778, 0.375     , 0.06779661, 0.04166667, 0.        ],\n",
       "       [0.16666667, 0.45833333, 0.08474576, 0.        , 0.        ],\n",
       "       [0.30555556, 0.70833333, 0.08474576, 0.04166667, 0.        ],\n",
       "       [0.13888889, 0.58333333, 0.10169492, 0.04166667, 0.        ],\n",
       "       [0.13888889, 0.41666667, 0.06779661, 0.        , 0.        ],\n",
       "       [0.        , 0.41666667, 0.01694915, 0.        , 0.        ],\n",
       "       [0.41666667, 0.83333333, 0.03389831, 0.04166667, 0.        ],\n",
       "       [0.38888889, 1.        , 0.08474576, 0.125     , 0.        ],\n",
       "       [0.30555556, 0.79166667, 0.05084746, 0.125     , 0.        ],\n",
       "       [0.22222222, 0.625     , 0.06779661, 0.08333333, 0.        ],\n",
       "       [0.38888889, 0.75      , 0.11864407, 0.08333333, 0.        ],\n",
       "       [0.22222222, 0.75      , 0.08474576, 0.08333333, 0.        ],\n",
       "       [0.30555556, 0.58333333, 0.11864407, 0.04166667, 0.        ],\n",
       "       [0.22222222, 0.70833333, 0.08474576, 0.125     , 0.        ],\n",
       "       [0.08333333, 0.66666667, 0.        , 0.04166667, 0.        ],\n",
       "       [0.22222222, 0.54166667, 0.11864407, 0.16666667, 0.        ],\n",
       "       [0.13888889, 0.58333333, 0.15254237, 0.04166667, 0.        ],\n",
       "       [0.19444444, 0.41666667, 0.10169492, 0.04166667, 0.        ],\n",
       "       [0.19444444, 0.58333333, 0.10169492, 0.125     , 0.        ],\n",
       "       [0.25      , 0.625     , 0.08474576, 0.04166667, 0.        ],\n",
       "       [0.25      , 0.58333333, 0.06779661, 0.04166667, 0.        ],\n",
       "       [0.11111111, 0.5       , 0.10169492, 0.04166667, 0.        ],\n",
       "       [0.13888889, 0.45833333, 0.10169492, 0.04166667, 0.        ],\n",
       "       [0.30555556, 0.58333333, 0.08474576, 0.125     , 0.        ],\n",
       "       [0.25      , 0.875     , 0.08474576, 0.        , 0.        ],\n",
       "       [0.33333333, 0.91666667, 0.06779661, 0.04166667, 0.        ],\n",
       "       [0.16666667, 0.45833333, 0.08474576, 0.04166667, 0.        ],\n",
       "       [0.19444444, 0.5       , 0.03389831, 0.04166667, 0.        ],\n",
       "       [0.33333333, 0.625     , 0.05084746, 0.04166667, 0.        ],\n",
       "       [0.16666667, 0.66666667, 0.06779661, 0.        , 0.        ],\n",
       "       [0.02777778, 0.41666667, 0.05084746, 0.04166667, 0.        ],\n",
       "       [0.22222222, 0.58333333, 0.08474576, 0.04166667, 0.        ],\n",
       "       [0.19444444, 0.625     , 0.05084746, 0.08333333, 0.        ],\n",
       "       [0.05555556, 0.125     , 0.05084746, 0.08333333, 0.        ],\n",
       "       [0.02777778, 0.5       , 0.05084746, 0.04166667, 0.        ],\n",
       "       [0.19444444, 0.625     , 0.10169492, 0.20833333, 0.        ],\n",
       "       [0.22222222, 0.75      , 0.15254237, 0.125     , 0.        ],\n",
       "       [0.13888889, 0.41666667, 0.06779661, 0.08333333, 0.        ],\n",
       "       [0.22222222, 0.75      , 0.10169492, 0.04166667, 0.        ],\n",
       "       [0.08333333, 0.5       , 0.06779661, 0.04166667, 0.        ],\n",
       "       [0.27777778, 0.70833333, 0.08474576, 0.04166667, 0.        ],\n",
       "       [0.19444444, 0.54166667, 0.06779661, 0.04166667, 0.        ],\n",
       "       [0.75      , 0.5       , 0.62711864, 0.54166667, 0.5       ],\n",
       "       [0.58333333, 0.5       , 0.59322034, 0.58333333, 0.5       ],\n",
       "       [0.72222222, 0.45833333, 0.66101695, 0.58333333, 0.5       ],\n",
       "       [0.33333333, 0.125     , 0.50847458, 0.5       , 0.5       ],\n",
       "       [0.61111111, 0.33333333, 0.61016949, 0.58333333, 0.5       ],\n",
       "       [0.38888889, 0.33333333, 0.59322034, 0.5       , 0.5       ],\n",
       "       [0.55555556, 0.54166667, 0.62711864, 0.625     , 0.5       ],\n",
       "       [0.16666667, 0.16666667, 0.38983051, 0.375     , 0.5       ],\n",
       "       [0.63888889, 0.375     , 0.61016949, 0.5       , 0.5       ],\n",
       "       [0.25      , 0.29166667, 0.49152542, 0.54166667, 0.5       ],\n",
       "       [0.19444444, 0.        , 0.42372881, 0.375     , 0.5       ],\n",
       "       [0.44444444, 0.41666667, 0.54237288, 0.58333333, 0.5       ],\n",
       "       [0.47222222, 0.08333333, 0.50847458, 0.375     , 0.5       ],\n",
       "       [0.5       , 0.375     , 0.62711864, 0.54166667, 0.5       ],\n",
       "       [0.36111111, 0.375     , 0.44067797, 0.5       , 0.5       ],\n",
       "       [0.66666667, 0.45833333, 0.57627119, 0.54166667, 0.5       ],\n",
       "       [0.36111111, 0.41666667, 0.59322034, 0.58333333, 0.5       ],\n",
       "       [0.41666667, 0.29166667, 0.52542373, 0.375     , 0.5       ],\n",
       "       [0.52777778, 0.08333333, 0.59322034, 0.58333333, 0.5       ],\n",
       "       [0.36111111, 0.20833333, 0.49152542, 0.41666667, 0.5       ],\n",
       "       [0.44444444, 0.5       , 0.6440678 , 0.70833333, 0.5       ],\n",
       "       [0.5       , 0.33333333, 0.50847458, 0.5       , 0.5       ],\n",
       "       [0.55555556, 0.20833333, 0.66101695, 0.58333333, 0.5       ],\n",
       "       [0.5       , 0.33333333, 0.62711864, 0.45833333, 0.5       ],\n",
       "       [0.58333333, 0.375     , 0.55932203, 0.5       , 0.5       ],\n",
       "       [0.63888889, 0.41666667, 0.57627119, 0.54166667, 0.5       ],\n",
       "       [0.69444444, 0.33333333, 0.6440678 , 0.54166667, 0.5       ],\n",
       "       [0.66666667, 0.41666667, 0.6779661 , 0.66666667, 0.5       ],\n",
       "       [0.47222222, 0.375     , 0.59322034, 0.58333333, 0.5       ],\n",
       "       [0.38888889, 0.25      , 0.42372881, 0.375     , 0.5       ],\n",
       "       [0.33333333, 0.16666667, 0.47457627, 0.41666667, 0.5       ],\n",
       "       [0.33333333, 0.16666667, 0.45762712, 0.375     , 0.5       ],\n",
       "       [0.41666667, 0.29166667, 0.49152542, 0.45833333, 0.5       ],\n",
       "       [0.47222222, 0.29166667, 0.69491525, 0.625     , 0.5       ],\n",
       "       [0.30555556, 0.41666667, 0.59322034, 0.58333333, 0.5       ],\n",
       "       [0.47222222, 0.58333333, 0.59322034, 0.625     , 0.5       ],\n",
       "       [0.66666667, 0.45833333, 0.62711864, 0.58333333, 0.5       ],\n",
       "       [0.55555556, 0.125     , 0.57627119, 0.5       , 0.5       ],\n",
       "       [0.36111111, 0.41666667, 0.52542373, 0.5       , 0.5       ],\n",
       "       [0.33333333, 0.20833333, 0.50847458, 0.5       , 0.5       ],\n",
       "       [0.33333333, 0.25      , 0.57627119, 0.45833333, 0.5       ],\n",
       "       [0.5       , 0.41666667, 0.61016949, 0.54166667, 0.5       ],\n",
       "       [0.41666667, 0.25      , 0.50847458, 0.45833333, 0.5       ],\n",
       "       [0.19444444, 0.125     , 0.38983051, 0.375     , 0.5       ],\n",
       "       [0.36111111, 0.29166667, 0.54237288, 0.5       , 0.5       ],\n",
       "       [0.38888889, 0.41666667, 0.54237288, 0.45833333, 0.5       ],\n",
       "       [0.38888889, 0.375     , 0.54237288, 0.5       , 0.5       ],\n",
       "       [0.52777778, 0.375     , 0.55932203, 0.5       , 0.5       ],\n",
       "       [0.22222222, 0.20833333, 0.33898305, 0.41666667, 0.5       ],\n",
       "       [0.38888889, 0.33333333, 0.52542373, 0.5       , 0.5       ],\n",
       "       [0.55555556, 0.54166667, 0.84745763, 1.        , 1.        ],\n",
       "       [0.41666667, 0.29166667, 0.69491525, 0.75      , 1.        ],\n",
       "       [0.77777778, 0.41666667, 0.83050847, 0.83333333, 1.        ],\n",
       "       [0.55555556, 0.375     , 0.77966102, 0.70833333, 1.        ],\n",
       "       [0.61111111, 0.41666667, 0.81355932, 0.875     , 1.        ],\n",
       "       [0.91666667, 0.41666667, 0.94915254, 0.83333333, 1.        ],\n",
       "       [0.16666667, 0.20833333, 0.59322034, 0.66666667, 1.        ],\n",
       "       [0.83333333, 0.375     , 0.89830508, 0.70833333, 1.        ],\n",
       "       [0.66666667, 0.20833333, 0.81355932, 0.70833333, 1.        ],\n",
       "       [0.80555556, 0.66666667, 0.86440678, 1.        , 1.        ],\n",
       "       [0.61111111, 0.5       , 0.69491525, 0.79166667, 1.        ],\n",
       "       [0.58333333, 0.29166667, 0.72881356, 0.75      , 1.        ],\n",
       "       [0.69444444, 0.41666667, 0.76271186, 0.83333333, 1.        ],\n",
       "       [0.38888889, 0.20833333, 0.6779661 , 0.79166667, 1.        ],\n",
       "       [0.41666667, 0.33333333, 0.69491525, 0.95833333, 1.        ],\n",
       "       [0.58333333, 0.5       , 0.72881356, 0.91666667, 1.        ],\n",
       "       [0.61111111, 0.41666667, 0.76271186, 0.70833333, 1.        ],\n",
       "       [0.94444444, 0.75      , 0.96610169, 0.875     , 1.        ],\n",
       "       [0.94444444, 0.25      , 1.        , 0.91666667, 1.        ],\n",
       "       [0.47222222, 0.08333333, 0.6779661 , 0.58333333, 1.        ],\n",
       "       [0.72222222, 0.5       , 0.79661017, 0.91666667, 1.        ],\n",
       "       [0.36111111, 0.33333333, 0.66101695, 0.79166667, 1.        ],\n",
       "       [0.94444444, 0.33333333, 0.96610169, 0.79166667, 1.        ],\n",
       "       [0.55555556, 0.29166667, 0.66101695, 0.70833333, 1.        ],\n",
       "       [0.66666667, 0.54166667, 0.79661017, 0.83333333, 1.        ],\n",
       "       [0.80555556, 0.5       , 0.84745763, 0.70833333, 1.        ],\n",
       "       [0.52777778, 0.33333333, 0.6440678 , 0.70833333, 1.        ],\n",
       "       [0.5       , 0.41666667, 0.66101695, 0.70833333, 1.        ],\n",
       "       [0.58333333, 0.33333333, 0.77966102, 0.83333333, 1.        ],\n",
       "       [0.80555556, 0.41666667, 0.81355932, 0.625     , 1.        ],\n",
       "       [0.86111111, 0.33333333, 0.86440678, 0.75      , 1.        ],\n",
       "       [1.        , 0.75      , 0.91525424, 0.79166667, 1.        ],\n",
       "       [0.58333333, 0.33333333, 0.77966102, 0.875     , 1.        ],\n",
       "       [0.55555556, 0.33333333, 0.69491525, 0.58333333, 1.        ],\n",
       "       [0.5       , 0.25      , 0.77966102, 0.54166667, 1.        ],\n",
       "       [0.94444444, 0.41666667, 0.86440678, 0.91666667, 1.        ],\n",
       "       [0.55555556, 0.58333333, 0.77966102, 0.95833333, 1.        ],\n",
       "       [0.58333333, 0.45833333, 0.76271186, 0.70833333, 1.        ],\n",
       "       [0.47222222, 0.41666667, 0.6440678 , 0.70833333, 1.        ],\n",
       "       [0.72222222, 0.45833333, 0.74576271, 0.83333333, 1.        ],\n",
       "       [0.66666667, 0.45833333, 0.77966102, 0.95833333, 1.        ],\n",
       "       [0.72222222, 0.45833333, 0.69491525, 0.91666667, 1.        ],\n",
       "       [0.41666667, 0.29166667, 0.69491525, 0.75      , 1.        ],\n",
       "       [0.69444444, 0.5       , 0.83050847, 0.91666667, 1.        ],\n",
       "       [0.66666667, 0.54166667, 0.79661017, 1.        , 1.        ],\n",
       "       [0.66666667, 0.41666667, 0.71186441, 0.91666667, 1.        ],\n",
       "       [0.55555556, 0.20833333, 0.6779661 , 0.75      , 1.        ],\n",
       "       [0.61111111, 0.41666667, 0.71186441, 0.79166667, 1.        ],\n",
       "       [0.52777778, 0.58333333, 0.74576271, 0.91666667, 1.        ],\n",
       "       [0.44444444, 0.41666667, 0.69491525, 0.70833333, 1.        ]])"
      ]
     },
     "execution_count": 8,
     "metadata": {},
     "output_type": "execute_result"
    }
   ],
   "source": [
    "df"
   ]
  },
  {
   "cell_type": "code",
   "execution_count": 9,
   "id": "de2f2474",
   "metadata": {},
   "outputs": [],
   "source": [
    "km = KMeans(n_clusters=3)\n"
   ]
  },
  {
   "cell_type": "code",
   "execution_count": 10,
   "id": "d2d1b7a3",
   "metadata": {},
   "outputs": [
    {
     "name": "stderr",
     "output_type": "stream",
     "text": [
      "/Users/vishalpatel/anaconda3/lib/python3.11/site-packages/sklearn/cluster/_kmeans.py:1412: FutureWarning: The default value of `n_init` will change from 10 to 'auto' in 1.4. Set the value of `n_init` explicitly to suppress the warning\n",
      "  super()._check_params_vs_input(X, default_n_init=10)\n"
     ]
    },
    {
     "data": {
      "text/plain": [
       "array([1, 1, 1, 1, 1, 1, 1, 1, 1, 1, 1, 1, 1, 1, 1, 1, 1, 1, 1, 1, 1, 1,\n",
       "       1, 1, 1, 1, 1, 1, 1, 1, 1, 1, 1, 1, 1, 1, 1, 1, 1, 1, 1, 1, 1, 1,\n",
       "       1, 1, 1, 1, 1, 1, 2, 2, 2, 2, 2, 2, 2, 2, 2, 2, 2, 2, 2, 2, 2, 2,\n",
       "       2, 2, 2, 2, 2, 2, 2, 2, 2, 2, 2, 2, 2, 2, 2, 2, 2, 2, 2, 2, 2, 2,\n",
       "       2, 2, 2, 2, 2, 2, 2, 2, 2, 2, 2, 2, 0, 0, 0, 0, 0, 0, 0, 0, 0, 0,\n",
       "       0, 0, 0, 0, 0, 0, 0, 0, 0, 0, 0, 0, 0, 0, 0, 0, 0, 0, 0, 0, 0, 0,\n",
       "       0, 0, 0, 0, 0, 0, 0, 0, 0, 0, 0, 0, 0, 0, 0, 0, 0, 0], dtype=int32)"
      ]
     },
     "execution_count": 10,
     "metadata": {},
     "output_type": "execute_result"
    }
   ],
   "source": [
    "yp = km.fit_predict(df)\n",
    "yp"
   ]
  },
  {
   "cell_type": "code",
   "execution_count": 12,
   "id": "6ac0e980",
   "metadata": {},
   "outputs": [
    {
     "ename": "IndexError",
     "evalue": "only integers, slices (`:`), ellipsis (`...`), numpy.newaxis (`None`) and integer or boolean arrays are valid indices",
     "output_type": "error",
     "traceback": [
      "\u001b[0;31m---------------------------------------------------------------------------\u001b[0m",
      "\u001b[0;31mIndexError\u001b[0m                                Traceback (most recent call last)",
      "Cell \u001b[0;32mIn[12], line 1\u001b[0m\n\u001b[0;32m----> 1\u001b[0m df[\u001b[38;5;124m'\u001b[39m\u001b[38;5;124mcluster\u001b[39m\u001b[38;5;124m'\u001b[39m] \u001b[38;5;241m=\u001b[39m pd\u001b[38;5;241m.\u001b[39mDataFrame(yp)\n\u001b[1;32m      2\u001b[0m df\u001b[38;5;241m.\u001b[39mhead(\u001b[38;5;241m2\u001b[39m)\n",
      "\u001b[0;31mIndexError\u001b[0m: only integers, slices (`:`), ellipsis (`...`), numpy.newaxis (`None`) and integer or boolean arrays are valid indices"
     ]
    }
   ],
   "source": [
    "df['cluster'] = pd.DataFrame(yp)\n",
    "df.head(2)"
   ]
  },
  {
   "cell_type": "code",
   "execution_count": 13,
   "id": "7a91fe90",
   "metadata": {},
   "outputs": [
    {
     "ename": "AttributeError",
     "evalue": "'numpy.ndarray' object has no attribute 'cluster'",
     "output_type": "error",
     "traceback": [
      "\u001b[0;31m---------------------------------------------------------------------------\u001b[0m",
      "\u001b[0;31mAttributeError\u001b[0m                            Traceback (most recent call last)",
      "Cell \u001b[0;32mIn[13], line 1\u001b[0m\n\u001b[0;32m----> 1\u001b[0m df\u001b[38;5;241m.\u001b[39mcluster\u001b[38;5;241m.\u001b[39munique()\n",
      "\u001b[0;31mAttributeError\u001b[0m: 'numpy.ndarray' object has no attribute 'cluster'"
     ]
    }
   ],
   "source": [
    "df.cluster.unique()"
   ]
  },
  {
   "cell_type": "code",
   "execution_count": 14,
   "id": "b0e907e3",
   "metadata": {},
   "outputs": [
    {
     "ename": "AttributeError",
     "evalue": "'numpy.ndarray' object has no attribute 'cluster'",
     "output_type": "error",
     "traceback": [
      "\u001b[0;31m---------------------------------------------------------------------------\u001b[0m",
      "\u001b[0;31mAttributeError\u001b[0m                            Traceback (most recent call last)",
      "Cell \u001b[0;32mIn[14], line 1\u001b[0m\n\u001b[0;32m----> 1\u001b[0m df1 \u001b[38;5;241m=\u001b[39m df[df\u001b[38;5;241m.\u001b[39mcluster\u001b[38;5;241m==\u001b[39m\u001b[38;5;241m0\u001b[39m]\n\u001b[1;32m      2\u001b[0m df2 \u001b[38;5;241m=\u001b[39m df[df\u001b[38;5;241m.\u001b[39mcluster\u001b[38;5;241m==\u001b[39m\u001b[38;5;241m1\u001b[39m]\n\u001b[1;32m      3\u001b[0m df3 \u001b[38;5;241m=\u001b[39m df[df\u001b[38;5;241m.\u001b[39mcluster\u001b[38;5;241m==\u001b[39m\u001b[38;5;241m2\u001b[39m]\n",
      "\u001b[0;31mAttributeError\u001b[0m: 'numpy.ndarray' object has no attribute 'cluster'"
     ]
    }
   ],
   "source": [
    "df1 = df[df.cluster==0]\n",
    "df2 = df[df.cluster==1]\n",
    "df3 = df[df.cluster==2]"
   ]
  },
  {
   "cell_type": "code",
   "execution_count": 15,
   "id": "d2f1031f",
   "metadata": {},
   "outputs": [
    {
     "ename": "NameError",
     "evalue": "name 'df1' is not defined",
     "output_type": "error",
     "traceback": [
      "\u001b[0;31m---------------------------------------------------------------------------\u001b[0m",
      "\u001b[0;31mNameError\u001b[0m                                 Traceback (most recent call last)",
      "Cell \u001b[0;32mIn[15], line 1\u001b[0m\n\u001b[0;32m----> 1\u001b[0m plt\u001b[38;5;241m.\u001b[39mscatter(df1[\u001b[38;5;124m'\u001b[39m\u001b[38;5;124mpetal length (cm)\u001b[39m\u001b[38;5;124m'\u001b[39m],df1[\u001b[38;5;124m'\u001b[39m\u001b[38;5;124mpetal width (cm)\u001b[39m\u001b[38;5;124m'\u001b[39m],color\u001b[38;5;241m=\u001b[39m\u001b[38;5;124m'\u001b[39m\u001b[38;5;124mblue\u001b[39m\u001b[38;5;124m'\u001b[39m)\n\u001b[1;32m      2\u001b[0m plt\u001b[38;5;241m.\u001b[39mscatter(df2[\u001b[38;5;124m'\u001b[39m\u001b[38;5;124mpetal length (cm)\u001b[39m\u001b[38;5;124m'\u001b[39m],df2[\u001b[38;5;124m'\u001b[39m\u001b[38;5;124mpetal width (cm)\u001b[39m\u001b[38;5;124m'\u001b[39m],color\u001b[38;5;241m=\u001b[39m\u001b[38;5;124m'\u001b[39m\u001b[38;5;124mgreen\u001b[39m\u001b[38;5;124m'\u001b[39m)\n\u001b[1;32m      3\u001b[0m plt\u001b[38;5;241m.\u001b[39mscatter(df3[\u001b[38;5;124m'\u001b[39m\u001b[38;5;124mpetal length (cm)\u001b[39m\u001b[38;5;124m'\u001b[39m],df3[\u001b[38;5;124m'\u001b[39m\u001b[38;5;124mpetal width (cm)\u001b[39m\u001b[38;5;124m'\u001b[39m],color\u001b[38;5;241m=\u001b[39m\u001b[38;5;124m'\u001b[39m\u001b[38;5;124myellow\u001b[39m\u001b[38;5;124m'\u001b[39m)\n",
      "\u001b[0;31mNameError\u001b[0m: name 'df1' is not defined"
     ]
    }
   ],
   "source": [
    "plt.scatter(df1['petal length (cm)'],df1['petal width (cm)'],color='blue')\n",
    "plt.scatter(df2['petal length (cm)'],df2['petal width (cm)'],color='green')\n",
    "plt.scatter(df3['petal length (cm)'],df3['petal width (cm)'],color='yellow')"
   ]
  },
  {
   "cell_type": "markdown",
   "id": "8daa354f",
   "metadata": {},
   "source": [
    "# Elbow plot "
   ]
  },
  {
   "cell_type": "code",
   "execution_count": 16,
   "id": "2152e191",
   "metadata": {},
   "outputs": [
    {
     "name": "stderr",
     "output_type": "stream",
     "text": [
      "/Users/vishalpatel/anaconda3/lib/python3.11/site-packages/sklearn/cluster/_kmeans.py:1412: FutureWarning: The default value of `n_init` will change from 10 to 'auto' in 1.4. Set the value of `n_init` explicitly to suppress the warning\n",
      "  super()._check_params_vs_input(X, default_n_init=10)\n",
      "/Users/vishalpatel/anaconda3/lib/python3.11/site-packages/sklearn/cluster/_kmeans.py:1412: FutureWarning: The default value of `n_init` will change from 10 to 'auto' in 1.4. Set the value of `n_init` explicitly to suppress the warning\n",
      "  super()._check_params_vs_input(X, default_n_init=10)\n",
      "/Users/vishalpatel/anaconda3/lib/python3.11/site-packages/sklearn/cluster/_kmeans.py:1412: FutureWarning: The default value of `n_init` will change from 10 to 'auto' in 1.4. Set the value of `n_init` explicitly to suppress the warning\n",
      "  super()._check_params_vs_input(X, default_n_init=10)\n",
      "/Users/vishalpatel/anaconda3/lib/python3.11/site-packages/sklearn/cluster/_kmeans.py:1412: FutureWarning: The default value of `n_init` will change from 10 to 'auto' in 1.4. Set the value of `n_init` explicitly to suppress the warning\n",
      "  super()._check_params_vs_input(X, default_n_init=10)\n",
      "/Users/vishalpatel/anaconda3/lib/python3.11/site-packages/sklearn/cluster/_kmeans.py:1412: FutureWarning: The default value of `n_init` will change from 10 to 'auto' in 1.4. Set the value of `n_init` explicitly to suppress the warning\n",
      "  super()._check_params_vs_input(X, default_n_init=10)\n",
      "/Users/vishalpatel/anaconda3/lib/python3.11/site-packages/sklearn/cluster/_kmeans.py:1412: FutureWarning: The default value of `n_init` will change from 10 to 'auto' in 1.4. Set the value of `n_init` explicitly to suppress the warning\n",
      "  super()._check_params_vs_input(X, default_n_init=10)\n",
      "/Users/vishalpatel/anaconda3/lib/python3.11/site-packages/sklearn/cluster/_kmeans.py:1412: FutureWarning: The default value of `n_init` will change from 10 to 'auto' in 1.4. Set the value of `n_init` explicitly to suppress the warning\n",
      "  super()._check_params_vs_input(X, default_n_init=10)\n",
      "/Users/vishalpatel/anaconda3/lib/python3.11/site-packages/sklearn/cluster/_kmeans.py:1412: FutureWarning: The default value of `n_init` will change from 10 to 'auto' in 1.4. Set the value of `n_init` explicitly to suppress the warning\n",
      "  super()._check_params_vs_input(X, default_n_init=10)\n",
      "/Users/vishalpatel/anaconda3/lib/python3.11/site-packages/sklearn/cluster/_kmeans.py:1412: FutureWarning: The default value of `n_init` will change from 10 to 'auto' in 1.4. Set the value of `n_init` explicitly to suppress the warning\n",
      "  super()._check_params_vs_input(X, default_n_init=10)\n"
     ]
    }
   ],
   "source": [
    "\n",
    "    \n",
    "see = []\n",
    "\n",
    "n = [2,3,4,5,6,7,8,9,10]\n",
    "\n",
    "for i in n:\n",
    "    km =  KMeans(n_clusters=i)\n",
    "    km.fit(df)\n",
    "    see.append(km.inertia_)\n",
    "    "
   ]
  },
  {
   "cell_type": "code",
   "execution_count": 17,
   "id": "651d8f24",
   "metadata": {},
   "outputs": [
    {
     "data": {
      "text/plain": [
       "[<matplotlib.lines.Line2D at 0x1372bb0d0>]"
      ]
     },
     "execution_count": 17,
     "metadata": {},
     "output_type": "execute_result"
    },
    {
     "data": {
      "image/png": "[encoded data removed]",
      "text/plain": [
       "<Figure size 640x480 with 1 Axes>"
      ]
     },
     "metadata": {},
     "output_type": "display_data"
    }
   ],
   "source": [
    "plt.xlabel('K')\n",
    "plt.ylabel('Sum of squared error')\n",
    "plt.plot(n,see)"
   ]
  },
  {
   "cell_type": "markdown",
   "id": "0e82b80d",
   "metadata": {},
   "source": [
    "# So the optimaml nuber of cluster is 3"
   ]
  },
  {
   "cell_type": "code",
   "execution_count": 18,
   "id": "45da9fda",
   "metadata": {},
   "outputs": [
    {
     "name": "stderr",
     "output_type": "stream",
     "text": [
      "/Users/vishalpatel/anaconda3/lib/python3.11/site-packages/sklearn/cluster/_kmeans.py:1412: FutureWarning: The default value of `n_init` will change from 10 to 'auto' in 1.4. Set the value of `n_init` explicitly to suppress the warning\n",
      "  super()._check_params_vs_input(X, default_n_init=10)\n",
      "/Users/vishalpatel/anaconda3/lib/python3.11/site-packages/sklearn/cluster/_kmeans.py:1412: FutureWarning: The default value of `n_init` will change from 10 to 'auto' in 1.4. Set the value of `n_init` explicitly to suppress the warning\n",
      "  super()._check_params_vs_input(X, default_n_init=10)\n",
      "/Users/vishalpatel/anaconda3/lib/python3.11/site-packages/sklearn/cluster/_kmeans.py:1412: FutureWarning: The default value of `n_init` will change from 10 to 'auto' in 1.4. Set the value of `n_init` explicitly to suppress the warning\n",
      "  super()._check_params_vs_input(X, default_n_init=10)\n",
      "/Users/vishalpatel/anaconda3/lib/python3.11/site-packages/sklearn/cluster/_kmeans.py:1412: FutureWarning: The default value of `n_init` will change from 10 to 'auto' in 1.4. Set the value of `n_init` explicitly to suppress the warning\n",
      "  super()._check_params_vs_input(X, default_n_init=10)\n",
      "/Users/vishalpatel/anaconda3/lib/python3.11/site-packages/sklearn/cluster/_kmeans.py:1412: FutureWarning: The default value of `n_init` will change from 10 to 'auto' in 1.4. Set the value of `n_init` explicitly to suppress the warning\n",
      "  super()._check_params_vs_input(X, default_n_init=10)\n",
      "/Users/vishalpatel/anaconda3/lib/python3.11/site-packages/sklearn/cluster/_kmeans.py:1412: FutureWarning: The default value of `n_init` will change from 10 to 'auto' in 1.4. Set the value of `n_init` explicitly to suppress the warning\n",
      "  super()._check_params_vs_input(X, default_n_init=10)\n",
      "/Users/vishalpatel/anaconda3/lib/python3.11/site-packages/sklearn/cluster/_kmeans.py:1412: FutureWarning: The default value of `n_init` will change from 10 to 'auto' in 1.4. Set the value of `n_init` explicitly to suppress the warning\n",
      "  super()._check_params_vs_input(X, default_n_init=10)\n"
     ]
    },
    {
     "data": {
      "image/png": "[encoded data removed]",
      "text/plain": [
       "<Figure size 640x480 with 1 Axes>"
      ]
     },
     "metadata": {},
     "output_type": "display_data"
    }
   ],
   "source": [
    "from sklearn.cluster import KMeans\n",
    "from sklearn.datasets import make_blobs\n",
    "from sklearn.metrics import silhouette_score\n",
    "import matplotlib.pyplot as plt\n",
    "\n",
    "\n",
    "\n",
    "# Range of clusters to try\n",
    "range_n_clusters = [2, 3, 4, 5, 6, 7, 8]\n",
    "\n",
    "# List to store silhouette scores\n",
    "silhouette_scores = []\n",
    "\n",
    "for n_clusters in range_n_clusters:\n",
    "    # Initialize KMeans with n_clusters\n",
    "    kmeans = KMeans(n_clusters=n_clusters, random_state=0)\n",
    "    cluster_labels = kmeans.fit_predict(df)\n",
    "    \n",
    "    # Compute the silhouette score\n",
    "    silhouette_avg = silhouette_score(df, cluster_labels)\n",
    "    silhouette_scores.append(silhouette_avg)\n",
    "\n",
    "# Plot the silhouette scores\n",
    "plt.plot(range_n_clusters, silhouette_scores, marker='o')\n",
    "plt.xlabel('Number of clusters')\n",
    "plt.ylabel('Silhouette Score')\n",
    "plt.title('Silhouette Score for different values of k')\n",
    "plt.show()"
   ]
  },
  {
   "cell_type": "code",
   "execution_count": null,
   "id": "fb5e9e65",
   "metadata": {},
   "outputs": [],
   "source": [
    "# This is the confirmation that 3 is optinaml numer of cluster here"
   ]
  },
  {
   "cell_type": "code",
   "execution_count": null,
   "id": "e98bdf30",
   "metadata": {},
   "outputs": [],
   "source": []
  }
 ],
 "metadata": {
  "kernelspec": {
   "display_name": "Python 3 (ipykernel)",
   "language": "python",
   "name": "python3"
  },
  "language_info": {
   "codemirror_mode": {
    "name": "ipython",
    "version": 3
   },
   "file_extension": ".py",
   "mimetype": "text/x-python",
   "name": "python",
   "nbconvert_exporter": "python",
   "pygments_lexer": "ipython3",
   "version": "3.11.4"
  }
 },
 "nbformat": 4,
 "nbformat_minor": 5
}
